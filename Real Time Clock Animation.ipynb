{
 "cells": [
  {
   "cell_type": "code",
   "execution_count": null,
   "id": "6b47d56b",
   "metadata": {
    "scrolled": false
   },
   "outputs": [
    {
     "data": {
      "text/html": [
       "<div id=\"glowscript\" class=\"glowscript\"></div>"
      ],
      "text/plain": [
       "<IPython.core.display.HTML object>"
      ]
     },
     "metadata": {},
     "output_type": "display_data"
    },
    {
     "data": {
      "application/javascript": [
       "if (typeof Jupyter !== \"undefined\") { window.__context = { glowscript_container: $(\"#glowscript\").removeAttr(\"id\")};}else{ element.textContent = ' ';}"
      ],
      "text/plain": [
       "<IPython.core.display.Javascript object>"
      ]
     },
     "metadata": {},
     "output_type": "display_data"
    },
    {
     "data": {
      "text/html": [
       "<div id=\"glowscript\" class=\"glowscript\"></div>"
      ],
      "text/plain": [
       "<IPython.core.display.HTML object>"
      ]
     },
     "metadata": {},
     "output_type": "display_data"
    },
    {
     "data": {
      "application/javascript": [
       "if (typeof Jupyter !== \"undefined\") { window.__context = { glowscript_container: $(\"#glowscript\").removeAttr(\"id\")};}else{ element.textContent = ' ';}"
      ],
      "text/plain": [
       "<IPython.core.display.Javascript object>"
      ]
     },
     "metadata": {},
     "output_type": "display_data"
    },
    {
     "data": {
      "application/javascript": [
       "if (typeof Jupyter !== \"undefined\") {require.undef(\"nbextensions/vpython_libraries/glow.min\");}else{element.textContent = ' ';}"
      ],
      "text/plain": [
       "<IPython.core.display.Javascript object>"
      ]
     },
     "metadata": {},
     "output_type": "display_data"
    },
    {
     "data": {
      "application/javascript": [
       "if (typeof Jupyter !== \"undefined\") {require.undef(\"nbextensions/vpython_libraries/glowcomm\");}else{element.textContent = ' ';}"
      ],
      "text/plain": [
       "<IPython.core.display.Javascript object>"
      ]
     },
     "metadata": {},
     "output_type": "display_data"
    },
    {
     "data": {
      "application/javascript": [
       "if (typeof Jupyter !== \"undefined\") {require.undef(\"nbextensions/vpython_libraries/jquery-ui.custom.min\");}else{element.textContent = ' ';}"
      ],
      "text/plain": [
       "<IPython.core.display.Javascript object>"
      ]
     },
     "metadata": {},
     "output_type": "display_data"
    },
    {
     "data": {
      "application/javascript": [
       "if (typeof Jupyter !== \"undefined\") {require([\"nbextensions/vpython_libraries/glow.min\"], function(){console.log(\"GLOW LOADED\");});}else{element.textContent = ' ';}"
      ],
      "text/plain": [
       "<IPython.core.display.Javascript object>"
      ]
     },
     "metadata": {},
     "output_type": "display_data"
    },
    {
     "data": {
      "application/javascript": [
       "if (typeof Jupyter !== \"undefined\") {require([\"nbextensions/vpython_libraries/glowcomm\"], function(){console.log(\"GLOWCOMM LOADED\");});}else{element.textContent = ' ';}"
      ],
      "text/plain": [
       "<IPython.core.display.Javascript object>"
      ]
     },
     "metadata": {},
     "output_type": "display_data"
    },
    {
     "data": {
      "application/javascript": [
       "if (typeof Jupyter !== \"undefined\") {require([\"nbextensions/vpython_libraries/jquery-ui.custom.min\"], function(){console.log(\"JQUERY LOADED\");});}else{element.textContent = ' ';}"
      ],
      "text/plain": [
       "<IPython.core.display.Javascript object>"
      ]
     },
     "metadata": {},
     "output_type": "display_data"
    }
   ],
   "source": [
    "from vpython import *\n",
    "import numpy as np\n",
    "import time\n",
    "\n",
    "scene = canvas()\n",
    "pi=3.14159\n",
    "clockR=2 # clock Radius\n",
    "clockT=clockR/10 # clock Thickness (it should be ralated with radius ** Parameterization**)\n",
    "\n",
    "majorTickL= clockR/8 # major Tick length\n",
    "majorTickT =2*pi*clockR/400 # major Tick Thichness round the corner of the clock (2*pi*clockR)\n",
    "majorTickW = clockT*1.2\n",
    "\n",
    "minorTickL= clockR/12 # minor Tick length\n",
    "minorTickT =2*pi*clockR/600 # minor Tick Thichness round the corner of the clock (2*pi*clockR)\n",
    "minorTickW = clockT*1.2 # minor Tick width same as major tick\n",
    "\n",
    "\n",
    "clockFace=cylinder(pos=vec(0,0,-clockT/2),axis=vec(0,0,1),radius=clockR,color=vec(0.4,0.2,0.6),length=clockT)\n",
    "\n",
    "minuteHandL=clockR-majorTickL\n",
    "minuteHandT=minuteHandL/25\n",
    "minuteHandOffset=clockT/2+minuteHandT\n",
    "minuteHand=arrow(pos=vec(0,0,minuteHandOffset),axis=vec(0,1,0),color=color.red,shaftwidth=minuteHandT,length=minuteHandL)\n",
    "\n",
    "hourHandL=minuteHandL*0.75\n",
    "hourHandT=minuteHandT*1.25\n",
    "hourHandOffset=clockT+hourHandT\n",
    "hourHand=arrow(pos=vec(0,0,hourHandOffset),axis=vec(0,1,0),color=color.red,shaftwidth=hourHandT,length=hourHandL)\n",
    "\n",
    "secondHandL=clockR-majorTickL/2\n",
    "secondHandT=minuteHandL/40\n",
    "secondHandOffset=clockT*1.8+secondHandT\n",
    "secondHand=arrow(pos=vec(0,0,secondHandOffset),axis=vec(0,1,0),color=color.red,shaftwidth=secondHandT,length=secondHandL)\n",
    "\n",
    "\n",
    "hubRadius=clockT/2\n",
    "hub=cylinder(axis=vec(0,0,1),color=color.red,radius=hubRadius,length=2.1*clockT)\n",
    "\n",
    "Angle=pi/2\n",
    "AngleInc=-2*pi/12\n",
    "numH=clockR/8\n",
    "\n",
    "for theta in np.linspace(0,2*pi,13):\n",
    "    majorTick=box(pos=vec((clockR-majorTickL/2)*np.cos(theta),(clockR-majorTickL/2)*np.sin(theta),0),axis=vec(clockR*np.cos(theta),clockR*np.sin(theta),0), color=color.black, length=majorTickL, width=majorTickW, height=majorTickT)\n",
    "\n",
    "for theta in np.linspace(0,2*pi,61):\n",
    "    minorTick=box(pos=vec((clockR-minorTickL/2)*np.cos(theta),(clockR-minorTickL/2)*np.sin(theta),0), axis=vec(clockR*np.cos(theta),clockR*np.sin(theta),0),color=color.black, length=minorTickL,width=minorTickW,height=minorTickT)\n",
    "\n",
    "for i in range(1,13,1):\n",
    "    Angle=Angle+AngleInc\n",
    "    clockNum=text(align='center',text=str(i),pos=vec(clockR*0.75*np.cos(Angle),clockR*0.75*np.sin(Angle)-numH/2,0),height=numH,depth=clockT/2,color=color.orange)\n",
    "    \n",
    "    \n",
    "while True:\n",
    "    rate(5000)  #run program fast\n",
    "    \n",
    "    hour=time.localtime(time.time())[3]\n",
    "    if hour>12:\n",
    "        hour=hour-12\n",
    "        \n",
    "    minute=time.localtime(time.time())[4]\n",
    "    second=time.localtime(time.time())[5]\n",
    "    \n",
    "    hourAngle=-((hour+minute/60)/12)*2*pi+pi/2\n",
    "    minuteAngle=-((minute+second/60)/60)*2*pi+pi/2\n",
    "    secondAngle=-(second/60)*2*pi+pi/2\n",
    "    \n",
    "    hourHand.axis=vec(hourHandL*np.cos(hourAngle),hourHandL*np.sin(hourAngle),0)\n",
    "    minuteHand.axis=vec(minuteHandL*np.cos(minuteAngle),minuteHandL*np.sin(minuteAngle),0)\n",
    "    secondHand.axis=vec(secondHandL*np.cos(secondAngle),secondHandL*np.sin(secondAngle),0)\n",
    "\n",
    "\n",
    "\n",
    "\n",
    "\n",
    "\n"
   ]
  },
  {
   "cell_type": "code",
   "execution_count": null,
   "id": "c7c6b2a4",
   "metadata": {},
   "outputs": [],
   "source": [
    "print(np.pi)"
   ]
  }
 ],
 "metadata": {
  "kernelspec": {
   "display_name": "Python 3 (ipykernel)",
   "language": "python",
   "name": "python3"
  },
  "language_info": {
   "codemirror_mode": {
    "name": "ipython",
    "version": 3
   },
   "file_extension": ".py",
   "mimetype": "text/x-python",
   "name": "python",
   "nbconvert_exporter": "python",
   "pygments_lexer": "ipython3",
   "version": "3.9.13"
  }
 },
 "nbformat": 4,
 "nbformat_minor": 5
}
